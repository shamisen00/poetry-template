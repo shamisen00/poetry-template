{
 "cells": [
  {
   "cell_type": "code",
   "execution_count": 1,
   "id": "a7aba8d1-e0a4-4431-bff9-7e10f6ccb1a8",
   "metadata": {},
   "outputs": [],
   "source": [
    "import matplotlib.pyplot as plt"
   ]
  },
  {
   "cell_type": "code",
   "execution_count": 2,
   "id": "d957d635-c7f7-418f-bb6a-3f2574562c92",
   "metadata": {},
   "outputs": [],
   "source": [
    "import numpy as np"
   ]
  },
  {
   "cell_type": "code",
   "execution_count": 3,
   "id": "06356f1d-5eb7-4c3b-9d97-40f78da2a8dc",
   "metadata": {},
   "outputs": [],
   "source": [
    "import glob"
   ]
  },
  {
   "cell_type": "code",
   "execution_count": 4,
   "id": "d4906038-98f9-4814-a644-ac90994754ed",
   "metadata": {},
   "outputs": [
    {
     "ename": "ImportError",
     "evalue": "libGL.so.1: cannot open shared object file: No such file or directory",
     "output_type": "error",
     "traceback": [
      "\u001b[0;31m---------------------------------------------------------------------------\u001b[0m",
      "\u001b[0;31mImportError\u001b[0m                               Traceback (most recent call last)",
      "Input \u001b[0;32mIn [4]\u001b[0m, in \u001b[0;36m<module>\u001b[0;34m\u001b[0m\n\u001b[0;32m----> 1\u001b[0m \u001b[38;5;28;01mimport\u001b[39;00m \u001b[38;5;21;01mcv2\u001b[39;00m\n",
      "File \u001b[0;32m/workspaces/demo/.venv/lib/python3.8/site-packages/cv2/__init__.py:8\u001b[0m, in \u001b[0;36m<module>\u001b[0;34m\u001b[0m\n\u001b[1;32m      5\u001b[0m \u001b[38;5;28;01mimport\u001b[39;00m \u001b[38;5;21;01mimportlib\u001b[39;00m\n\u001b[1;32m      6\u001b[0m \u001b[38;5;28;01mimport\u001b[39;00m \u001b[38;5;21;01msys\u001b[39;00m\n\u001b[0;32m----> 8\u001b[0m \u001b[38;5;28;01mfrom\u001b[39;00m \u001b[38;5;21;01m.\u001b[39;00m\u001b[38;5;21;01mcv2\u001b[39;00m \u001b[38;5;28;01mimport\u001b[39;00m \u001b[38;5;241m*\u001b[39m\n\u001b[1;32m      9\u001b[0m \u001b[38;5;28;01mfrom\u001b[39;00m \u001b[38;5;21;01m.\u001b[39;00m\u001b[38;5;21;01mcv2\u001b[39;00m \u001b[38;5;28;01mimport\u001b[39;00m _registerMatType\n\u001b[1;32m     10\u001b[0m \u001b[38;5;28;01mfrom\u001b[39;00m \u001b[38;5;21;01m.\u001b[39;00m \u001b[38;5;28;01mimport\u001b[39;00m mat_wrapper\n",
      "\u001b[0;31mImportError\u001b[0m: libGL.so.1: cannot open shared object file: No such file or directory"
     ]
    }
   ],
   "source": [
    "import cv2"
   ]
  },
  {
   "cell_type": "code",
   "execution_count": 1,
   "id": "def8bb68-c2f1-43f0-976b-615efa0aac6f",
   "metadata": {},
   "outputs": [
    {
     "ename": "ImportError",
     "evalue": "libGL.so.1: cannot open shared object file: No such file or directory",
     "output_type": "error",
     "traceback": [
      "\u001b[0;31m---------------------------------------------------------------------------\u001b[0m",
      "\u001b[0;31mImportError\u001b[0m                               Traceback (most recent call last)",
      "Input \u001b[0;32mIn [1]\u001b[0m, in \u001b[0;36m<module>\u001b[0;34m\u001b[0m\n\u001b[0;32m----> 1\u001b[0m \u001b[38;5;28;01mimport\u001b[39;00m \u001b[38;5;21;01mcv2\u001b[39;00m\n",
      "File \u001b[0;32m/workspaces/demo/.venv/lib/python3.8/site-packages/cv2/__init__.py:8\u001b[0m, in \u001b[0;36m<module>\u001b[0;34m\u001b[0m\n\u001b[1;32m      5\u001b[0m \u001b[38;5;28;01mimport\u001b[39;00m \u001b[38;5;21;01mimportlib\u001b[39;00m\n\u001b[1;32m      6\u001b[0m \u001b[38;5;28;01mimport\u001b[39;00m \u001b[38;5;21;01msys\u001b[39;00m\n\u001b[0;32m----> 8\u001b[0m \u001b[38;5;28;01mfrom\u001b[39;00m \u001b[38;5;21;01m.\u001b[39;00m\u001b[38;5;21;01mcv2\u001b[39;00m \u001b[38;5;28;01mimport\u001b[39;00m \u001b[38;5;241m*\u001b[39m\n\u001b[1;32m      9\u001b[0m \u001b[38;5;28;01mfrom\u001b[39;00m \u001b[38;5;21;01m.\u001b[39;00m\u001b[38;5;21;01mcv2\u001b[39;00m \u001b[38;5;28;01mimport\u001b[39;00m _registerMatType\n\u001b[1;32m     10\u001b[0m \u001b[38;5;28;01mfrom\u001b[39;00m \u001b[38;5;21;01m.\u001b[39;00m \u001b[38;5;28;01mimport\u001b[39;00m mat_wrapper\n",
      "\u001b[0;31mImportError\u001b[0m: libGL.so.1: cannot open shared object file: No such file or directory"
     ]
    }
   ],
   "source": [
    "import pathlib\n",
    "import cv2\n",
    "import glob\n",
    "import numpy as np\n",
    "import matplotlib.pyplot as plt"
   ]
  },
  {
   "cell_type": "code",
   "execution_count": null,
   "id": "c96b0ac1-65de-4269-8a15-1cac5e30d1b3",
   "metadata": {},
   "outputs": [],
   "source": [
    "ls Estima/R"
   ]
  },
  {
   "cell_type": "code",
   "execution_count": null,
   "id": "4b4523b2-1b4c-47f8-adea-fb317686c4d7",
   "metadata": {},
   "outputs": [],
   "source": [
    "files = [\"Estima/RFD_Normal/Micro2_20211208_154330_761_RF1_Gain3.5.png\", \\\n",
    "         \"Estima/RFD_Normal/Micro2_20211208_154423_172_RF2_Gain3.png\", \\\n",
    "        \"Estima/RFD_Normal/Micro2_20211208_154513_649_RF3_Gain3.png\", \\\n",
    "        \"Estima/LRF_W2/Micro2_20211210_163045_383_LRF1_200mm.png\", \\\n",
    "        \"Estima/LRF_W2/Micro2_20211210_163102_222_LRF2_200mm.png\", \\\n",
    "        \"Estima/LRF_W2/Micro2_20211210_163134_796_LRF3_200mm.png\"]\n",
    "for file in files:\n",
    "    visualize(file)"
   ]
  },
  {
   "cell_type": "code",
   "execution_count": null,
   "id": "b1a06ed1-6d0c-4903-87a0-d8faf734d8c0",
   "metadata": {},
   "outputs": [],
   "source": [
    "class Imageset():\n",
    "    def __init__(self, file):\n",
    "        self.img = cv.imaread(file)"
   ]
  },
  {
   "cell_type": "code",
   "execution_count": null,
   "id": "2c65ef33-7f8d-433b-8484-e4c321d37223",
   "metadata": {},
   "outputs": [],
   "source": [
    "def visualize(str: file):\n",
    "    img = cv2.imread(file)\n",
    "    r_img = img[...,0]\n",
    "    g_img = img[...,1]\n",
    "    b_img = img[...,2]\n",
    "    \n",
    "    # imshow\n",
    "    fig, ax = plt.subplots(2, 2)\n",
    "\n",
    "    ax[0, 0].imshow(img)\n",
    "    ax[0, 1].imshow(r_img)\n",
    "    ax[1, 0].imshow(g_img)\n",
    "    ax[1, 1].imshow(b_img)\n",
    "\n",
    "    ax[0, 0].set_title(\"RGB\")\n",
    "    ax[0, 1].set_title(\"R\")\n",
    "    ax[1, 0].set_title(\"G\")\n",
    "    ax[1, 1].set_title(\"B\")\n",
    "\n",
    "    plt.figure(figsize=(10,10))\n",
    "    fig.tight_layout()\n",
    "    plt.show()\n",
    "    \n",
    "    # histgram\n",
    "    fig, ax = plt.subplots(2, 2)\n",
    "\n",
    "    ax[0, 0].hist(img[img.nonzero()], bins=100)\n",
    "    ax[0, 1].hist(r_img[r_img.nonzero()], bins=100)\n",
    "    ax[1, 0].hist(g_img[g_img.nonzero()], bins=100)\n",
    "    ax[1, 1].hist(b_img[b_img.nonzero()], bins=100)\n",
    "\n",
    "    ax[0, 0].set_title(\"RGB\")\n",
    "    ax[0, 1].set_title(\"R\")\n",
    "    ax[1, 0].set_title(\"G\")\n",
    "    ax[1, 1].set_title(\"B\")\n",
    "\n",
    "    plt.figure(figsize=(10,10))\n",
    "    fig.tight_layout()\n",
    "    plt.show()\n",
    "    \n",
    "    # ratio\n",
    "    pixels = img.shape[0] * img.shape[1]\n",
    "    r_ratio = ((r_img >= 1).sum() * 100) / pixels\n",
    "    g_ratio = ((g_img >= 1).sum() * 100) / pixels\n",
    "    b_ratio = ((b_img >= 1).sum() * 100) / pixels\n",
    "    print(\"R-image Area:\", f\"{r_ratio}%\")\n",
    "    print(\"G-image Area:\", f\"{g_ratio}%\")\n",
    "    print(\"B-image Area:\", f\"{b_ratio}%\")\n",
    "    print(\"ratio:\", g_ratio / r_ratio)"
   ]
  },
  {
   "cell_type": "code",
   "execution_count": null,
   "id": "ce1cc1aa-fe37-4e92-8b64-82e7ac2580b4",
   "metadata": {},
   "outputs": [],
   "source": [
    "# weight = 1 / pixcel value \n",
    "print(\"area ratio:\", g_prop / r_prop)"
   ]
  },
  {
   "cell_type": "code",
   "execution_count": null,
   "id": "006793a5-f83a-4271-a42b-ab320e00827c",
   "metadata": {},
   "outputs": [],
   "source": [
    "# weight = 1\n",
    "print(\"volume ratio:\", g_img[g_img.nonzero()].sum() / r_img[r_img.nonzero()].sum())"
   ]
  },
  {
   "cell_type": "code",
   "execution_count": null,
   "id": "ee9a8cc8-73ec-474a-8c8a-485e5f506e6e",
   "metadata": {},
   "outputs": [],
   "source": [
    "# W1,W2 -> クラスタリング?\n",
    "# 全体を一つのスカラー量で表しているが多次元の量で表すのもあり"
   ]
  }
 ],
 "metadata": {
  "kernelspec": {
   "display_name": "Python 3 (ipykernel)",
   "language": "python",
   "name": "python3"
  },
  "language_info": {
   "codemirror_mode": {
    "name": "ipython",
    "version": 3
   },
   "file_extension": ".py",
   "mimetype": "text/x-python",
   "name": "python",
   "nbconvert_exporter": "python",
   "pygments_lexer": "ipython3",
   "version": "3.8.10"
  }
 },
 "nbformat": 4,
 "nbformat_minor": 5
}
